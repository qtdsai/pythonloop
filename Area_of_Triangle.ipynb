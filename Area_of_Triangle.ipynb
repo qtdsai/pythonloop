{
  "nbformat": 4,
  "nbformat_minor": 0,
  "metadata": {
    "colab": {
      "provenance": []
    },
    "kernelspec": {
      "name": "python3",
      "display_name": "Python 3"
    },
    "language_info": {
      "name": "python"
    }
  },
  "cells": [
    {
      "cell_type": "code",
      "execution_count": null,
      "metadata": {
        "colab": {
          "base_uri": "https://localhost:8080/"
        },
        "id": "H75Llx3LSsKO",
        "outputId": "fa37f472-fae8-487d-d02e-2069156ad224"
      },
      "outputs": [
        {
          "output_type": "stream",
          "name": "stdout",
          "text": [
            "Enter first side: 2.3\n",
            "Enter second side: 4.5\n",
            "Enter third side: 6.5\n",
            "The area of the triangle is  3.0543606123049756\n"
          ]
        }
      ],
      "source": [
        "# AREA OF TRIANGLE\n",
        "\n",
        "a = float(input('Enter first side: '))\n",
        "\n",
        "# both single and double quotes can be used for strings\n",
        "b = float(input('Enter second side: '))\n",
        "c = float(input('Enter third side: '))\n",
        "\n",
        "# calculate the semi-perimeter\n",
        "# add a,b,c and then divide\n",
        "s = (a + b + c) / 2\n",
        "\n",
        "# calculate the area\n",
        "# square root is multiplying by power of 0.5\n",
        "area = (s*(s-a)*(s-b)*(s-c)) ** 0.5\n",
        "print('The area of the triangle is ', area)\n"
      ]
    }
  ]
}