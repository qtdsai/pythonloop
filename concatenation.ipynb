{
  "nbformat": 4,
  "nbformat_minor": 0,
  "metadata": {
    "colab": {
      "provenance": []
    },
    "kernelspec": {
      "name": "python3",
      "display_name": "Python 3"
    },
    "language_info": {
      "name": "python"
    }
  },
  "cells": [
    {
      "cell_type": "code",
      "execution_count": null,
      "metadata": {
        "colab": {
          "base_uri": "https://localhost:8080/"
        },
        "id": "0ZV1442UD-ND",
        "outputId": "49b6920c-e25b-49a6-9685-9cb3f58167ea"
      },
      "outputs": [
        {
          "output_type": "stream",
          "name": "stdout",
          "text": [
            "String 1: python\n",
            "String 2: programming\n",
            "Concatenated two different strings: pythonprogramming\n"
          ]
        }
      ],
      "source": [
        "# concatenating strings\n",
        "str1=\"python\" # first string\n",
        "str2=\"programming\" # second string\n",
        "print (\"String 1:\",str1)\n",
        "print (\"String 2:\",str2)\n",
        "str=str1+str2 # concatenation operator +\n",
        "print(\"Concatenated two different strings:\",str)\n"
      ]
    }
  ]
}